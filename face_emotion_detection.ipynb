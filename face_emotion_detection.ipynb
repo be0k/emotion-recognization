{
 "cells": [
  {
   "cell_type": "code",
   "execution_count": 1,
   "metadata": {},
   "outputs": [],
   "source": [
    "train_dir = './emotion_face/train'\n",
    "test_dir = './emotion_face/test'\n",
    "image_size = 48"
   ]
  },
  {
   "cell_type": "code",
   "execution_count": 2,
   "metadata": {},
   "outputs": [
    {
     "name": "stdout",
     "output_type": "stream",
     "text": [
      "Init Plugin\n",
      "Init Graph Optimizer\n",
      "Init Kernel\n"
     ]
    }
   ],
   "source": [
    "from tensorflow.keras.preprocessing.image import ImageDataGenerator\n",
    "train_datagen = ImageDataGenerator(      width_shift_range = 0.1,\n",
    "                                         height_shift_range = 0.1,\n",
    "                                         horizontal_flip = True,\n",
    "                                         rescale = 1./255,\n",
    "                                         validation_split = 0.2\n",
    "                                        )\n",
    "validation_datagen = ImageDataGenerator( rescale = 1./255,\n",
    "                                         validation_split = 0.2)"
   ]
  },
  {
   "cell_type": "code",
   "execution_count": 3,
   "metadata": {},
   "outputs": [
    {
     "name": "stdout",
     "output_type": "stream",
     "text": [
      "Found 22968 images belonging to 7 classes.\n",
      "Found 1432 images belonging to 7 classes.\n"
     ]
    }
   ],
   "source": [
    "train_generator = train_datagen.flow_from_directory(directory = train_dir,\n",
    "                                                    target_size = (image_size,image_size),\n",
    "                                                    batch_size = 64,\n",
    "                                                    color_mode = \"grayscale\",\n",
    "                                                    class_mode = \"categorical\",\n",
    "                                                    subset = \"training\"\n",
    "                                                   )\n",
    "validation_generator = validation_datagen.flow_from_directory( directory = test_dir,\n",
    "                                                              target_size = (image_size,image_size),\n",
    "                                                              batch_size = 64,\n",
    "                                                              color_mode = \"grayscale\",\n",
    "                                                              class_mode = \"categorical\",\n",
    "                                                              subset = \"validation\"\n",
    "                                                             )"
   ]
  },
  {
   "cell_type": "code",
   "execution_count": 13,
   "metadata": {},
   "outputs": [],
   "source": [
    "import tensorflow as tf\n",
    "from tensorflow.keras.models import Sequential\n",
    "from tensorflow.keras.layers import Conv2D, MaxPool2D, Flatten,Dense,Dropout,BatchNormalization\n",
    "from tensorflow.keras.optimizers import Adam,RMSprop,SGD,Adamax\n",
    "\n"
   ]
  },
  {
   "cell_type": "code",
   "execution_count": 14,
   "metadata": {},
   "outputs": [
    {
     "name": "stdout",
     "output_type": "stream",
     "text": [
      "Metal device set to: Apple M1\n",
      "\n",
      "systemMemory: 8.00 GB\n",
      "maxCacheSize: 2.67 GB\n",
      "\n"
     ]
    },
    {
     "name": "stderr",
     "output_type": "stream",
     "text": [
      "2022-07-19 10:32:01.117903: I tensorflow/core/common_runtime/pluggable_device/pluggable_device_factory.cc:305] Could not identify NUMA node of platform GPU ID 0, defaulting to 0. Your kernel may not have been built with NUMA support.\n",
      "2022-07-19 10:32:01.118435: I tensorflow/core/common_runtime/pluggable_device/pluggable_device_factory.cc:271] Created TensorFlow device (/job:localhost/replica:0/task:0/device:GPU:0 with 0 MB memory) -> physical PluggableDevice (device: 0, name: METAL, pci bus id: <undefined>)\n",
      "/opt/homebrew/Caskroom/miniforge/base/envs/tf/lib/python3.9/site-packages/tensorflow/python/keras/optimizer_v2/optimizer_v2.py:374: UserWarning: The `lr` argument is deprecated, use `learning_rate` instead.\n",
      "  warnings.warn(\n"
     ]
    }
   ],
   "source": [
    "model = tf.keras.models.Sequential()\n",
    "model.add(Conv2D(32,kernel_size=(3,3),padding='same',activation='relu',input_shape=(48,48,1)))\n",
    "\n",
    "#1\n",
    "model.add(Conv2D(64,kernel_size=(3,3),padding='same',activation='relu'))\n",
    "model.add(BatchNormalization())\n",
    "model.add(MaxPool2D(pool_size=(2,2)))\n",
    "model.add(Dropout(0.2))\n",
    "\n",
    "#2\n",
    "model.add(Conv2D(128,kernel_size=(3,3),padding='same',activation='relu'))\n",
    "model.add(BatchNormalization())\n",
    "model.add(MaxPool2D(pool_size=(2,2)))\n",
    "model.add(Dropout(0.2))\n",
    "\n",
    "#3\n",
    "model.add(Conv2D(256,kernel_size=(3,3),padding='same',activation='relu'))\n",
    "model.add(BatchNormalization())\n",
    "model.add(MaxPool2D(pool_size=(2,2)))\n",
    "model.add(Dropout(0.2))\n",
    "\n",
    "#4\n",
    "model.add(Flatten())\n",
    "model.add(Dense(128,activation='relu'))\n",
    "model.add(BatchNormalization())\n",
    "model.add(Dropout(0.2))\n",
    "\n",
    "model.add(Dense(256,activation='relu'))\n",
    "model.add(BatchNormalization())\n",
    "model.add(Dropout(0.2))\n",
    "\n",
    "#5\n",
    "model.add(Dense(7,activation='softmax'))\n",
    "\n",
    "model.compile(\n",
    "    optimizer = Adam(lr=0.0001),\n",
    "    loss = 'categorical_crossentropy',\n",
    "    metrics=['accuracy'])"
   ]
  },
  {
   "cell_type": "code",
   "execution_count": 15,
   "metadata": {},
   "outputs": [
    {
     "name": "stdout",
     "output_type": "stream",
     "text": [
      "Model: \"sequential\"\n",
      "_________________________________________________________________\n",
      "Layer (type)                 Output Shape              Param #   \n",
      "=================================================================\n",
      "conv2d (Conv2D)              (None, 48, 48, 32)        320       \n",
      "_________________________________________________________________\n",
      "conv2d_1 (Conv2D)            (None, 48, 48, 64)        18496     \n",
      "_________________________________________________________________\n",
      "batch_normalization (BatchNo (None, 48, 48, 64)        256       \n",
      "_________________________________________________________________\n",
      "max_pooling2d (MaxPooling2D) (None, 24, 24, 64)        0         \n",
      "_________________________________________________________________\n",
      "dropout (Dropout)            (None, 24, 24, 64)        0         \n",
      "_________________________________________________________________\n",
      "conv2d_2 (Conv2D)            (None, 24, 24, 128)       73856     \n",
      "_________________________________________________________________\n",
      "batch_normalization_1 (Batch (None, 24, 24, 128)       512       \n",
      "_________________________________________________________________\n",
      "max_pooling2d_1 (MaxPooling2 (None, 12, 12, 128)       0         \n",
      "_________________________________________________________________\n",
      "dropout_1 (Dropout)          (None, 12, 12, 128)       0         \n",
      "_________________________________________________________________\n",
      "conv2d_3 (Conv2D)            (None, 12, 12, 256)       295168    \n",
      "_________________________________________________________________\n",
      "batch_normalization_2 (Batch (None, 12, 12, 256)       1024      \n",
      "_________________________________________________________________\n",
      "max_pooling2d_2 (MaxPooling2 (None, 6, 6, 256)         0         \n",
      "_________________________________________________________________\n",
      "dropout_2 (Dropout)          (None, 6, 6, 256)         0         \n",
      "_________________________________________________________________\n",
      "flatten (Flatten)            (None, 9216)              0         \n",
      "_________________________________________________________________\n",
      "dense (Dense)                (None, 128)               1179776   \n",
      "_________________________________________________________________\n",
      "batch_normalization_3 (Batch (None, 128)               512       \n",
      "_________________________________________________________________\n",
      "dropout_3 (Dropout)          (None, 128)               0         \n",
      "_________________________________________________________________\n",
      "dense_1 (Dense)              (None, 256)               33024     \n",
      "_________________________________________________________________\n",
      "batch_normalization_4 (Batch (None, 256)               1024      \n",
      "_________________________________________________________________\n",
      "dropout_4 (Dropout)          (None, 256)               0         \n",
      "_________________________________________________________________\n",
      "dense_2 (Dense)              (None, 7)                 1799      \n",
      "=================================================================\n",
      "Total params: 1,605,767\n",
      "Trainable params: 1,604,103\n",
      "Non-trainable params: 1,664\n",
      "_________________________________________________________________\n"
     ]
    }
   ],
   "source": [
    "model.summary()"
   ]
  },
  {
   "cell_type": "code",
   "execution_count": 16,
   "metadata": {},
   "outputs": [
    {
     "name": "stderr",
     "output_type": "stream",
     "text": [
      "2022-07-19 10:33:44.657071: I tensorflow/compiler/mlir/mlir_graph_optimization_pass.cc:176] None of the MLIR Optimization Passes are enabled (registered 2)\n",
      "2022-07-19 10:33:44.658325: W tensorflow/core/platform/profile_utils/cpu_utils.cc:128] Failed to get CPU frequency: 0 Hz\n"
     ]
    },
    {
     "name": "stdout",
     "output_type": "stream",
     "text": [
      "Epoch 1/60\n"
     ]
    },
    {
     "name": "stderr",
     "output_type": "stream",
     "text": [
      "2022-07-19 10:33:45.010059: I tensorflow/core/grappler/optimizers/custom_graph_optimizer_registry.cc:112] Plugin optimizer for device_type GPU is enabled.\n"
     ]
    },
    {
     "name": "stdout",
     "output_type": "stream",
     "text": [
      "359/359 [==============================] - ETA: 0s - loss: 2.2204 - accuracy: 0.2205"
     ]
    },
    {
     "name": "stderr",
     "output_type": "stream",
     "text": [
      "2022-07-19 10:34:20.095707: I tensorflow/core/grappler/optimizers/custom_graph_optimizer_registry.cc:112] Plugin optimizer for device_type GPU is enabled.\n"
     ]
    },
    {
     "name": "stdout",
     "output_type": "stream",
     "text": [
      "359/359 [==============================] - 36s 86ms/step - loss: 2.2204 - accuracy: 0.2205 - val_loss: 7.3335 - val_accuracy: 0.1718\n",
      "Epoch 2/60\n",
      "359/359 [==============================] - 29s 82ms/step - loss: 1.9028 - accuracy: 0.2797 - val_loss: 1.7334 - val_accuracy: 0.3296\n",
      "Epoch 3/60\n",
      "359/359 [==============================] - 29s 81ms/step - loss: 1.7883 - accuracy: 0.3140 - val_loss: 1.5906 - val_accuracy: 0.3750\n",
      "Epoch 4/60\n",
      "359/359 [==============================] - 29s 80ms/step - loss: 1.6939 - accuracy: 0.3483 - val_loss: 1.5302 - val_accuracy: 0.4246\n",
      "Epoch 5/60\n",
      "359/359 [==============================] - 29s 82ms/step - loss: 1.6395 - accuracy: 0.3771 - val_loss: 1.5457 - val_accuracy: 0.4036\n",
      "Epoch 6/60\n",
      "359/359 [==============================] - 29s 81ms/step - loss: 1.5833 - accuracy: 0.3911 - val_loss: 1.4699 - val_accuracy: 0.4316\n",
      "Epoch 7/60\n",
      "359/359 [==============================] - 29s 81ms/step - loss: 1.5394 - accuracy: 0.4065 - val_loss: 1.4641 - val_accuracy: 0.4616\n",
      "Epoch 8/60\n",
      "359/359 [==============================] - 29s 82ms/step - loss: 1.5006 - accuracy: 0.4213 - val_loss: 1.3750 - val_accuracy: 0.4839\n",
      "Epoch 9/60\n",
      "359/359 [==============================] - 29s 81ms/step - loss: 1.4574 - accuracy: 0.4407 - val_loss: 1.3332 - val_accuracy: 0.4951\n",
      "Epoch 10/60\n",
      "359/359 [==============================] - 29s 81ms/step - loss: 1.4252 - accuracy: 0.4532 - val_loss: 1.4849 - val_accuracy: 0.4546\n",
      "Epoch 11/60\n",
      "359/359 [==============================] - 29s 82ms/step - loss: 1.3960 - accuracy: 0.4678 - val_loss: 1.2967 - val_accuracy: 0.5014\n",
      "Epoch 12/60\n",
      "359/359 [==============================] - 29s 82ms/step - loss: 1.3691 - accuracy: 0.4785 - val_loss: 1.2954 - val_accuracy: 0.5279\n",
      "Epoch 13/60\n",
      "359/359 [==============================] - 29s 82ms/step - loss: 1.3369 - accuracy: 0.4905 - val_loss: 1.2373 - val_accuracy: 0.5328\n",
      "Epoch 14/60\n",
      "359/359 [==============================] - 29s 81ms/step - loss: 1.3162 - accuracy: 0.4988 - val_loss: 1.2352 - val_accuracy: 0.5419\n",
      "Epoch 15/60\n",
      "359/359 [==============================] - 29s 81ms/step - loss: 1.2968 - accuracy: 0.5070 - val_loss: 1.1880 - val_accuracy: 0.5601\n",
      "Epoch 16/60\n",
      "359/359 [==============================] - 29s 81ms/step - loss: 1.2754 - accuracy: 0.5177 - val_loss: 1.2144 - val_accuracy: 0.5594\n",
      "Epoch 17/60\n",
      "359/359 [==============================] - 29s 81ms/step - loss: 1.2551 - accuracy: 0.5234 - val_loss: 1.1731 - val_accuracy: 0.5615\n",
      "Epoch 18/60\n",
      "359/359 [==============================] - 29s 82ms/step - loss: 1.2369 - accuracy: 0.5300 - val_loss: 1.1641 - val_accuracy: 0.5684\n",
      "Epoch 19/60\n",
      "359/359 [==============================] - 30s 85ms/step - loss: 1.2256 - accuracy: 0.5359 - val_loss: 1.1518 - val_accuracy: 0.5740\n",
      "Epoch 20/60\n",
      "359/359 [==============================] - 30s 84ms/step - loss: 1.2082 - accuracy: 0.5392 - val_loss: 1.0986 - val_accuracy: 0.5845\n",
      "Epoch 21/60\n",
      "359/359 [==============================] - 30s 84ms/step - loss: 1.1882 - accuracy: 0.5467 - val_loss: 1.1257 - val_accuracy: 0.5845\n",
      "Epoch 22/60\n",
      "359/359 [==============================] - 31s 85ms/step - loss: 1.1764 - accuracy: 0.5533 - val_loss: 1.1527 - val_accuracy: 0.5782\n",
      "Epoch 23/60\n",
      "359/359 [==============================] - 29s 81ms/step - loss: 1.1670 - accuracy: 0.5593 - val_loss: 1.1466 - val_accuracy: 0.5831\n",
      "Epoch 24/60\n",
      "359/359 [==============================] - 29s 80ms/step - loss: 1.1571 - accuracy: 0.5643 - val_loss: 1.0609 - val_accuracy: 0.6041\n",
      "Epoch 25/60\n",
      "359/359 [==============================] - 30s 83ms/step - loss: 1.1356 - accuracy: 0.5734 - val_loss: 1.0617 - val_accuracy: 0.6061\n",
      "Epoch 26/60\n",
      "359/359 [==============================] - 29s 81ms/step - loss: 1.1314 - accuracy: 0.5700 - val_loss: 1.0880 - val_accuracy: 0.6068\n",
      "Epoch 27/60\n",
      "359/359 [==============================] - 29s 80ms/step - loss: 1.1249 - accuracy: 0.5754 - val_loss: 1.0762 - val_accuracy: 0.6075\n",
      "Epoch 28/60\n",
      "359/359 [==============================] - 30s 82ms/step - loss: 1.1093 - accuracy: 0.5803 - val_loss: 1.0658 - val_accuracy: 0.6117\n",
      "Epoch 29/60\n",
      "359/359 [==============================] - 29s 81ms/step - loss: 1.1044 - accuracy: 0.5841 - val_loss: 1.0480 - val_accuracy: 0.6159\n",
      "Epoch 30/60\n",
      "359/359 [==============================] - 29s 82ms/step - loss: 1.0868 - accuracy: 0.5875 - val_loss: 1.0650 - val_accuracy: 0.6089\n",
      "Epoch 31/60\n",
      "359/359 [==============================] - 29s 81ms/step - loss: 1.0783 - accuracy: 0.5936 - val_loss: 1.0268 - val_accuracy: 0.6215\n",
      "Epoch 32/60\n",
      "359/359 [==============================] - 29s 81ms/step - loss: 1.0768 - accuracy: 0.5920 - val_loss: 1.0237 - val_accuracy: 0.6292\n",
      "Epoch 33/60\n",
      "359/359 [==============================] - 29s 80ms/step - loss: 1.0649 - accuracy: 0.5958 - val_loss: 1.0502 - val_accuracy: 0.6145\n",
      "Epoch 34/60\n",
      "359/359 [==============================] - 29s 80ms/step - loss: 1.0522 - accuracy: 0.6057 - val_loss: 1.0182 - val_accuracy: 0.6306\n",
      "Epoch 35/60\n",
      "359/359 [==============================] - 29s 80ms/step - loss: 1.0517 - accuracy: 0.6015 - val_loss: 1.1043 - val_accuracy: 0.5985\n",
      "Epoch 36/60\n",
      "359/359 [==============================] - 29s 80ms/step - loss: 1.0323 - accuracy: 0.6090 - val_loss: 1.0821 - val_accuracy: 0.6054\n",
      "Epoch 37/60\n",
      "359/359 [==============================] - 29s 81ms/step - loss: 1.0378 - accuracy: 0.6116 - val_loss: 1.0435 - val_accuracy: 0.6222\n",
      "Epoch 38/60\n",
      "359/359 [==============================] - 29s 82ms/step - loss: 1.0235 - accuracy: 0.6188 - val_loss: 1.0136 - val_accuracy: 0.6355\n",
      "Epoch 39/60\n",
      "359/359 [==============================] - 29s 81ms/step - loss: 1.0124 - accuracy: 0.6174 - val_loss: 1.0156 - val_accuracy: 0.6383\n",
      "Epoch 40/60\n",
      "359/359 [==============================] - 29s 80ms/step - loss: 1.0056 - accuracy: 0.6229 - val_loss: 0.9926 - val_accuracy: 0.6487\n",
      "Epoch 41/60\n",
      "359/359 [==============================] - 29s 81ms/step - loss: 1.0009 - accuracy: 0.6254 - val_loss: 0.9798 - val_accuracy: 0.6404\n",
      "Epoch 42/60\n",
      "359/359 [==============================] - 29s 81ms/step - loss: 0.9949 - accuracy: 0.6247 - val_loss: 0.9808 - val_accuracy: 0.6376\n",
      "Epoch 43/60\n",
      "359/359 [==============================] - 29s 80ms/step - loss: 0.9885 - accuracy: 0.6278 - val_loss: 1.0287 - val_accuracy: 0.6250\n",
      "Epoch 44/60\n",
      "359/359 [==============================] - 29s 82ms/step - loss: 0.9825 - accuracy: 0.6303 - val_loss: 0.9903 - val_accuracy: 0.6411\n",
      "Epoch 45/60\n",
      "359/359 [==============================] - 29s 81ms/step - loss: 0.9787 - accuracy: 0.6314 - val_loss: 0.9564 - val_accuracy: 0.6480\n",
      "Epoch 46/60\n",
      "359/359 [==============================] - 29s 80ms/step - loss: 0.9763 - accuracy: 0.6360 - val_loss: 0.9961 - val_accuracy: 0.6306\n",
      "Epoch 47/60\n",
      "359/359 [==============================] - 29s 80ms/step - loss: 0.9672 - accuracy: 0.6380 - val_loss: 0.9609 - val_accuracy: 0.6446\n",
      "Epoch 48/60\n",
      "359/359 [==============================] - 29s 80ms/step - loss: 0.9644 - accuracy: 0.6342 - val_loss: 0.9721 - val_accuracy: 0.6508\n",
      "Epoch 49/60\n",
      "359/359 [==============================] - 29s 80ms/step - loss: 0.9516 - accuracy: 0.6451 - val_loss: 0.9714 - val_accuracy: 0.6487\n",
      "Epoch 50/60\n",
      "359/359 [==============================] - 29s 81ms/step - loss: 0.9475 - accuracy: 0.6444 - val_loss: 0.9687 - val_accuracy: 0.6473\n",
      "Epoch 51/60\n",
      "359/359 [==============================] - 30s 82ms/step - loss: 0.9431 - accuracy: 0.6462 - val_loss: 0.9609 - val_accuracy: 0.6487\n",
      "Epoch 52/60\n",
      "359/359 [==============================] - 29s 81ms/step - loss: 0.9357 - accuracy: 0.6538 - val_loss: 0.9901 - val_accuracy: 0.6376\n",
      "Epoch 53/60\n",
      "359/359 [==============================] - 31s 86ms/step - loss: 0.9287 - accuracy: 0.6552 - val_loss: 0.9540 - val_accuracy: 0.6515\n",
      "Epoch 54/60\n",
      "359/359 [==============================] - 30s 84ms/step - loss: 0.9191 - accuracy: 0.6569 - val_loss: 0.9567 - val_accuracy: 0.6578\n",
      "Epoch 55/60\n",
      "359/359 [==============================] - 29s 82ms/step - loss: 0.9242 - accuracy: 0.6558 - val_loss: 0.9922 - val_accuracy: 0.6459\n",
      "Epoch 56/60\n",
      "359/359 [==============================] - 29s 80ms/step - loss: 0.9092 - accuracy: 0.6595 - val_loss: 1.0321 - val_accuracy: 0.6292\n",
      "Epoch 57/60\n",
      "359/359 [==============================] - 29s 80ms/step - loss: 0.9105 - accuracy: 0.6581 - val_loss: 0.9493 - val_accuracy: 0.6648\n",
      "Epoch 58/60\n",
      "359/359 [==============================] - 29s 81ms/step - loss: 0.9043 - accuracy: 0.6609 - val_loss: 0.9629 - val_accuracy: 0.6550\n",
      "Epoch 59/60\n",
      "359/359 [==============================] - 30s 84ms/step - loss: 0.9017 - accuracy: 0.6630 - val_loss: 0.9436 - val_accuracy: 0.6669\n",
      "Epoch 60/60\n",
      "359/359 [==============================] - 29s 80ms/step - loss: 0.8970 - accuracy: 0.6667 - val_loss: 0.9745 - val_accuracy: 0.6627\n"
     ]
    }
   ],
   "source": [
    "epoch = 60\n",
    "batch_size = 64\n",
    "history = model.fit(x = train_generator,epochs = epoch, validation_data = validation_generator)"
   ]
  },
  {
   "cell_type": "code",
   "execution_count": 18,
   "metadata": {},
   "outputs": [
    {
     "data": {
      "image/png": "[encoded data removed]",
      "text/plain": [
       "<Figure size 864x288 with 2 Axes>"
      ]
     },
     "metadata": {
      "needs_background": "light"
     },
     "output_type": "display_data"
    }
   ],
   "source": [
    "import matplotlib.pyplot as plt\n",
    "\n",
    "fig , ax = plt.subplots(1,2)\n",
    "train_acc = history.history['accuracy']\n",
    "train_loss = history.history['loss']\n",
    "fig.set_size_inches(12,4)\n",
    "\n",
    "ax[0].plot(history.history['accuracy'])\n",
    "ax[0].plot(history.history['val_accuracy'])\n",
    "ax[0].set_title('Training Accuracy vs Validation Accuracy')\n",
    "ax[0].set_ylabel('Accuracy')\n",
    "ax[0].set_xlabel('Epoch')\n",
    "ax[0].legend(['Train', 'Validation'], loc='upper left')\n",
    "\n",
    "ax[1].plot(history.history['loss'])\n",
    "ax[1].plot(history.history['val_loss'])\n",
    "ax[1].set_title('Training Loss vs Validation Loss')\n",
    "ax[1].set_ylabel('Loss')\n",
    "ax[1].set_xlabel('Epoch')\n",
    "ax[1].legend(['Train', 'Validation'], loc='upper left')\n",
    "\n",
    "plt.show()"
   ]
  },
  {
   "cell_type": "code",
   "execution_count": 19,
   "metadata": {},
   "outputs": [
    {
     "name": "stdout",
     "output_type": "stream",
     "text": [
      "Epoch 1/60\n",
      "359/359 [==============================] - 30s 82ms/step - loss: 0.8854 - accuracy: 0.6678 - val_loss: 0.9678 - val_accuracy: 0.6641\n",
      "Epoch 2/60\n",
      "359/359 [==============================] - 30s 82ms/step - loss: 0.8758 - accuracy: 0.6712 - val_loss: 0.9825 - val_accuracy: 0.6564\n",
      "Epoch 3/60\n",
      "359/359 [==============================] - 29s 81ms/step - loss: 0.8760 - accuracy: 0.6732 - val_loss: 0.9715 - val_accuracy: 0.6543\n",
      "Epoch 4/60\n",
      "359/359 [==============================] - 29s 81ms/step - loss: 0.8702 - accuracy: 0.6752 - val_loss: 0.9456 - val_accuracy: 0.6634\n",
      "Epoch 5/60\n",
      "359/359 [==============================] - 29s 82ms/step - loss: 0.8740 - accuracy: 0.6714 - val_loss: 0.9799 - val_accuracy: 0.6578\n",
      "Epoch 6/60\n",
      "359/359 [==============================] - 29s 80ms/step - loss: 0.8629 - accuracy: 0.6764 - val_loss: 0.9819 - val_accuracy: 0.6620\n",
      "Epoch 7/60\n",
      "359/359 [==============================] - 29s 80ms/step - loss: 0.8535 - accuracy: 0.6821 - val_loss: 0.9596 - val_accuracy: 0.6697\n",
      "Epoch 8/60\n",
      "359/359 [==============================] - 29s 81ms/step - loss: 0.8523 - accuracy: 0.6812 - val_loss: 0.9837 - val_accuracy: 0.6606\n",
      "Epoch 9/60\n",
      "359/359 [==============================] - 29s 81ms/step - loss: 0.8522 - accuracy: 0.6813 - val_loss: 0.9382 - val_accuracy: 0.6669\n",
      "Epoch 10/60\n",
      "359/359 [==============================] - 29s 80ms/step - loss: 0.8493 - accuracy: 0.6852 - val_loss: 0.9361 - val_accuracy: 0.6809\n",
      "Epoch 11/60\n",
      "359/359 [==============================] - 29s 80ms/step - loss: 0.8344 - accuracy: 0.6905 - val_loss: 0.9641 - val_accuracy: 0.6592\n",
      "Epoch 12/60\n",
      "359/359 [==============================] - 29s 81ms/step - loss: 0.8337 - accuracy: 0.6913 - val_loss: 0.9557 - val_accuracy: 0.6620\n",
      "Epoch 13/60\n",
      "359/359 [==============================] - 29s 81ms/step - loss: 0.8410 - accuracy: 0.6848 - val_loss: 0.9545 - val_accuracy: 0.6662\n",
      "Epoch 14/60\n",
      "359/359 [==============================] - 29s 80ms/step - loss: 0.8273 - accuracy: 0.6887 - val_loss: 0.9972 - val_accuracy: 0.6397\n",
      "Epoch 15/60\n",
      "359/359 [==============================] - 29s 80ms/step - loss: 0.8235 - accuracy: 0.6901 - val_loss: 0.9364 - val_accuracy: 0.6718\n",
      "Epoch 16/60\n",
      "359/359 [==============================] - 29s 81ms/step - loss: 0.8135 - accuracy: 0.6963 - val_loss: 1.0019 - val_accuracy: 0.6515\n",
      "Epoch 17/60\n",
      "359/359 [==============================] - 29s 81ms/step - loss: 0.8212 - accuracy: 0.6937 - val_loss: 0.9536 - val_accuracy: 0.6781\n",
      "Epoch 18/60\n",
      "359/359 [==============================] - 29s 81ms/step - loss: 0.8140 - accuracy: 0.6943 - val_loss: 0.9358 - val_accuracy: 0.6711\n",
      "Epoch 19/60\n",
      "359/359 [==============================] - 29s 81ms/step - loss: 0.8075 - accuracy: 0.6959 - val_loss: 0.9465 - val_accuracy: 0.6823\n",
      "Epoch 20/60\n",
      "359/359 [==============================] - 29s 82ms/step - loss: 0.8058 - accuracy: 0.7000 - val_loss: 0.9676 - val_accuracy: 0.6669\n",
      "Epoch 21/60\n",
      "359/359 [==============================] - 29s 81ms/step - loss: 0.8038 - accuracy: 0.7010 - val_loss: 0.9472 - val_accuracy: 0.6760\n",
      "Epoch 22/60\n",
      "359/359 [==============================] - 29s 82ms/step - loss: 0.7941 - accuracy: 0.7061 - val_loss: 0.9592 - val_accuracy: 0.6795\n",
      "Epoch 23/60\n",
      "359/359 [==============================] - 30s 82ms/step - loss: 0.7892 - accuracy: 0.7050 - val_loss: 0.9458 - val_accuracy: 0.6739\n",
      "Epoch 24/60\n",
      "359/359 [==============================] - 30s 82ms/step - loss: 0.7858 - accuracy: 0.7086 - val_loss: 0.9520 - val_accuracy: 0.6676\n",
      "Epoch 25/60\n",
      "359/359 [==============================] - 30s 83ms/step - loss: 0.7798 - accuracy: 0.7083 - val_loss: 0.9916 - val_accuracy: 0.6536\n",
      "Epoch 26/60\n",
      "359/359 [==============================] - 30s 85ms/step - loss: 0.7771 - accuracy: 0.7108 - val_loss: 0.9585 - val_accuracy: 0.6760\n",
      "Epoch 27/60\n",
      "359/359 [==============================] - 29s 82ms/step - loss: 0.7737 - accuracy: 0.7136 - val_loss: 0.9381 - val_accuracy: 0.6718\n",
      "Epoch 28/60\n",
      "359/359 [==============================] - 29s 81ms/step - loss: 0.7764 - accuracy: 0.7111 - val_loss: 0.9682 - val_accuracy: 0.6641\n",
      "Epoch 29/60\n",
      "359/359 [==============================] - 29s 81ms/step - loss: 0.7656 - accuracy: 0.7120 - val_loss: 0.9585 - val_accuracy: 0.6690\n",
      "Epoch 30/60\n",
      "359/359 [==============================] - 30s 82ms/step - loss: 0.7686 - accuracy: 0.7123 - val_loss: 0.9197 - val_accuracy: 0.6760\n",
      "Epoch 31/60\n",
      "359/359 [==============================] - 29s 81ms/step - loss: 0.7654 - accuracy: 0.7125 - val_loss: 0.9458 - val_accuracy: 0.6704\n",
      "Epoch 32/60\n",
      "359/359 [==============================] - 29s 81ms/step - loss: 0.7619 - accuracy: 0.7139 - val_loss: 0.9619 - val_accuracy: 0.6676\n",
      "Epoch 33/60\n",
      "359/359 [==============================] - 29s 80ms/step - loss: 0.7456 - accuracy: 0.7218 - val_loss: 0.9567 - val_accuracy: 0.6676\n",
      "Epoch 34/60\n",
      "359/359 [==============================] - 29s 80ms/step - loss: 0.7538 - accuracy: 0.7179 - val_loss: 0.9195 - val_accuracy: 0.6920\n",
      "Epoch 35/60\n",
      "359/359 [==============================] - 29s 81ms/step - loss: 0.7467 - accuracy: 0.7234 - val_loss: 0.9501 - val_accuracy: 0.6781\n",
      "Epoch 36/60\n",
      "359/359 [==============================] - 30s 83ms/step - loss: 0.7430 - accuracy: 0.7241 - val_loss: 0.9669 - val_accuracy: 0.6683\n",
      "Epoch 37/60\n",
      "359/359 [==============================] - 30s 84ms/step - loss: 0.7438 - accuracy: 0.7261 - val_loss: 0.9738 - val_accuracy: 0.6746\n",
      "Epoch 38/60\n",
      "359/359 [==============================] - 29s 80ms/step - loss: 0.7388 - accuracy: 0.7235 - val_loss: 0.9670 - val_accuracy: 0.6676\n",
      "Epoch 39/60\n",
      "359/359 [==============================] - 30s 83ms/step - loss: 0.7334 - accuracy: 0.7268 - val_loss: 0.9729 - val_accuracy: 0.6599\n",
      "Epoch 40/60\n",
      "359/359 [==============================] - 29s 81ms/step - loss: 0.7296 - accuracy: 0.7280 - val_loss: 0.9665 - val_accuracy: 0.6802\n",
      "Epoch 41/60\n",
      "359/359 [==============================] - 29s 80ms/step - loss: 0.7257 - accuracy: 0.7295 - val_loss: 0.9468 - val_accuracy: 0.6858\n",
      "Epoch 42/60\n",
      "359/359 [==============================] - 29s 80ms/step - loss: 0.7178 - accuracy: 0.7325 - val_loss: 0.9920 - val_accuracy: 0.6697\n",
      "Epoch 43/60\n",
      "359/359 [==============================] - 29s 80ms/step - loss: 0.7151 - accuracy: 0.7347 - val_loss: 0.9697 - val_accuracy: 0.6753\n",
      "Epoch 44/60\n",
      "359/359 [==============================] - 29s 80ms/step - loss: 0.7210 - accuracy: 0.7311 - val_loss: 0.9691 - val_accuracy: 0.6774\n",
      "Epoch 45/60\n",
      "359/359 [==============================] - 29s 81ms/step - loss: 0.7171 - accuracy: 0.7338 - val_loss: 0.9715 - val_accuracy: 0.6816\n",
      "Epoch 46/60\n",
      "359/359 [==============================] - 29s 81ms/step - loss: 0.7070 - accuracy: 0.7373 - val_loss: 0.9546 - val_accuracy: 0.6837\n",
      "Epoch 47/60\n",
      "359/359 [==============================] - 29s 81ms/step - loss: 0.7065 - accuracy: 0.7375 - val_loss: 0.9470 - val_accuracy: 0.6858\n",
      "Epoch 48/60\n",
      "359/359 [==============================] - 29s 80ms/step - loss: 0.7013 - accuracy: 0.7366 - val_loss: 0.9496 - val_accuracy: 0.6781\n",
      "Epoch 49/60\n",
      "359/359 [==============================] - 29s 80ms/step - loss: 0.7001 - accuracy: 0.7382 - val_loss: 0.9683 - val_accuracy: 0.6865\n",
      "Epoch 50/60\n",
      "359/359 [==============================] - 29s 80ms/step - loss: 0.6992 - accuracy: 0.7373 - val_loss: 1.0568 - val_accuracy: 0.6662\n",
      "Epoch 51/60\n",
      "359/359 [==============================] - 29s 80ms/step - loss: 0.6958 - accuracy: 0.7408 - val_loss: 0.9811 - val_accuracy: 0.6878\n",
      "Epoch 52/60\n",
      "359/359 [==============================] - 29s 81ms/step - loss: 0.6850 - accuracy: 0.7464 - val_loss: 1.0207 - val_accuracy: 0.6627\n",
      "Epoch 53/60\n",
      "359/359 [==============================] - 29s 80ms/step - loss: 0.6881 - accuracy: 0.7434 - val_loss: 0.9459 - val_accuracy: 0.6725\n",
      "Epoch 54/60\n",
      "359/359 [==============================] - 29s 80ms/step - loss: 0.6806 - accuracy: 0.7467 - val_loss: 0.9921 - val_accuracy: 0.6746\n",
      "Epoch 55/60\n",
      "359/359 [==============================] - 29s 80ms/step - loss: 0.6911 - accuracy: 0.7427 - val_loss: 0.9969 - val_accuracy: 0.6676\n",
      "Epoch 56/60\n",
      "359/359 [==============================] - 29s 80ms/step - loss: 0.6882 - accuracy: 0.7418 - val_loss: 0.9580 - val_accuracy: 0.6851\n",
      "Epoch 57/60\n",
      "359/359 [==============================] - 29s 82ms/step - loss: 0.6807 - accuracy: 0.7459 - val_loss: 0.9862 - val_accuracy: 0.6774\n",
      "Epoch 58/60\n",
      "359/359 [==============================] - 29s 82ms/step - loss: 0.6738 - accuracy: 0.7480 - val_loss: 0.9679 - val_accuracy: 0.6823\n",
      "Epoch 59/60\n",
      "359/359 [==============================] - 29s 81ms/step - loss: 0.6679 - accuracy: 0.7517 - val_loss: 0.9839 - val_accuracy: 0.6655\n",
      "Epoch 60/60\n",
      "359/359 [==============================] - 30s 83ms/step - loss: 0.6661 - accuracy: 0.7524 - val_loss: 0.9759 - val_accuracy: 0.6899\n"
     ]
    }
   ],
   "source": [
    "history1 = model.fit(x = train_generator,epochs = epoch, validation_data = validation_generator)"
   ]
  },
  {
   "cell_type": "code",
   "execution_count": 24,
   "metadata": {},
   "outputs": [],
   "source": [
    "model.save('custom.h5')"
   ]
  },
  {
   "cell_type": "code",
   "execution_count": 32,
   "metadata": {},
   "outputs": [
    {
     "data": {
      "text/plain": [
       "<matplotlib.image.AxesImage at 0x2909cd310>"
      ]
     },
     "execution_count": 32,
     "metadata": {},
     "output_type": "execute_result"
    },
    {
     "data": {
      "image/png": "[encoded data removed]",
      "text/plain": [
       "<Figure size 432x288 with 1 Axes>"
      ]
     },
     "metadata": {
      "needs_background": "light"
     },
     "output_type": "display_data"
    }
   ],
   "source": [
    "import numpy as np\n",
    "from tensorflow.keras.preprocessing import image\n",
    "img = image.load_img(\"./emotion_face/test/happy/PublicTest_77291754.jpg\",target_size = (48,48),color_mode = \"grayscale\")\n",
    "img = np.array(img)\n",
    "plt.imshow(img)"
   ]
  },
  {
   "cell_type": "code",
   "execution_count": 33,
   "metadata": {},
   "outputs": [],
   "source": [
    "label_dict = {0:'Angry',1:'Disgust',2:'Fear',3:'Happy',4:'Neutral',5:'Sad',6:'Surprise'}"
   ]
  },
  {
   "cell_type": "code",
   "execution_count": 34,
   "metadata": {},
   "outputs": [
    {
     "name": "stdout",
     "output_type": "stream",
     "text": [
      "[0.0, 0.0, 0.0, 1.0, 0.0, 0.0, 0.0]\n"
     ]
    }
   ],
   "source": [
    "img = np.expand_dims(img,axis = 0) #makes image shape (1,48,48)\n",
    "img = img.reshape(1,48,48,1)\n",
    "result = model.predict(img)\n",
    "result = list(result[0])\n",
    "print(result)"
   ]
  },
  {
   "cell_type": "code",
   "execution_count": 35,
   "metadata": {},
   "outputs": [
    {
     "name": "stdout",
     "output_type": "stream",
     "text": [
      "Happy\n"
     ]
    }
   ],
   "source": [
    "img_index = result.index(max(result))\n",
    "print(label_dict[img_index])\n",
    "plt.show()"
   ]
  },
  {
   "cell_type": "code",
   "execution_count": 31,
   "metadata": {},
   "outputs": [
    {
     "name": "stdout",
     "output_type": "stream",
     "text": [
      "359/359 [==============================] - 9s 23ms/step - loss: 0.4896 - accuracy: 0.8283\n",
      "23/23 [==============================] - 1s 22ms/step - loss: 0.9759 - accuracy: 0.6899\n",
      "final train accuracy = 82.83 , validation accuracy = 68.99\n"
     ]
    }
   ],
   "source": [
    "train_loss, train_acc = model.evaluate(train_generator)\n",
    "test_loss, test_acc   = model.evaluate(validation_generator)\n",
    "print(\"final train accuracy = {:.2f} , validation accuracy = {:.2f}\".format(train_acc*100, test_acc*100))"
   ]
  },
  {
   "cell_type": "code",
   "execution_count": null,
   "metadata": {},
   "outputs": [],
   "source": []
  }
 ],
 "metadata": {
  "kernelspec": {
   "display_name": "tf",
   "language": "python",
   "name": "python3"
  },
  "language_info": {
   "codemirror_mode": {
    "name": "ipython",
    "version": 3
   },
   "file_extension": ".py",
   "mimetype": "text/x-python",
   "name": "python",
   "nbconvert_exporter": "python",
   "pygments_lexer": "ipython3",
   "version": "3.9.13"
  },
  "orig_nbformat": 4,
  "vscode": {
   "interpreter": {
    "hash": "231f90857e400e921a8158a351335f1e4287d9cca00ecb299ec1479caef87ff2"
   }
  }
 },
 "nbformat": 4,
 "nbformat_minor": 2
}
